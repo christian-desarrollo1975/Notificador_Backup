{
 "cells": [
  {
   "cell_type": "markdown",
   "metadata": {},
   "source": [
    "## Estructura de la Aplicación:\n",
    "\n",
    "- **Verificación del backup:**\n",
    "    - Detectar la presencia del archivo DBSIF.FBK.\n",
    "    - Verificar la fecha y hora de creación/modificación.\n",
    "    - Obtener el tamaño del archivo.\n",
    "\n",
    "- **Notificación por Email y/o WhatsApp:**\n",
    "    - Si el backup es exitoso (el archivo cumple con los criterios), se envía una notificación.\n",
    "    - En caso de fallo (si no se genera el archivo o tiene un tamaño inesperado), enviar una alerta."
   ]
  },
  {
   "cell_type": "markdown",
   "metadata": {},
   "source": [
    "**Requisitos:**\n",
    "\n",
    "- Bibliotecas necesarias:\n",
    "    - `os` para verificar el archivo.\n",
    "    - `smtplib` para enviar emails.\n",
    "    - API de WhatsApp (podemos usar Twilio o alguna otra plataforma que permita la integración).\n",
    "    - `schedule` o utilizar una tarea programada en Windows para ejecutar la verificación."
   ]
  },
  {
   "cell_type": "markdown",
   "metadata": {},
   "source": [
    "## Verificación del archivo DBSIF.FBK:\n"
   ]
  },
  {
   "cell_type": "code",
   "execution_count": 23,
   "metadata": {},
   "outputs": [],
   "source": [
    "import os\n",
    "import time\n",
    "\n",
    "def verificar_backup(ruta_backup):\n",
    "    # Verificar si el archivo existe\n",
    "    if os.path.exists(ruta_backup):\n",
    "        # Obtener el tamaño en GB\n",
    "        tamano = os.path.getsize(ruta_backup) / (1024 * 1024 * 1024)\n",
    "        # Obtener fecha de creación/modificación\n",
    "        timestamp = os.path.getmtime(ruta_backup)\n",
    "        fecha_creacion = time.strftime('%Y-%m-%d %H:%M:%S', time.localtime(timestamp))\n",
    "\n",
    "        return {\"existe\": True, \"tamano_gb\": tamano, \"fecha_creacion\": fecha_creacion}\n",
    "    else:\n",
    "        return {\"existe\": False}\n"
   ]
  },
  {
   "cell_type": "markdown",
   "metadata": {},
   "source": [
    "\n",
    "## Envío de notificaciones por correo electrónico:"
   ]
  },
  {
   "cell_type": "code",
   "execution_count": 28,
   "metadata": {},
   "outputs": [
    {
     "data": {
      "text/plain": [
       "'import smtplib\\nfrom email.mime.multipart import MIMEMultipart\\nfrom email.mime.text import MIMEText\\n\\ndef enviar_email(asunto, cuerpo, destinatario):\\n    remitente = \"estudio.csaluzzo@gmail.com\"\\n    contraseña = \"**********\"\\n    \\n    # Configuración del mensaje\\n    mensaje = MIMEMultipart()\\n    mensaje[\\'From\\'] = remitente\\n    mensaje[\\'To\\'] = destinatario\\n    mensaje[\\'Subject\\'] = asunto\\n    mensaje.attach(MIMEText(cuerpo, \\'plain\\'))\\n\\n    # Conectar y enviar\\n    servidor = smtplib.SMTP(\\'smtp.gmail.com\\', 587)\\n    servidor.starttls()\\n    servidor.login(remitente, contraseña)\\n    texto = mensaje.as_string()\\n    servidor.sendmail(remitente, destinatario, texto)\\n    servidor.quit()\\n\\n    print(\"Correo enviado a\", destinatario)'"
      ]
     },
     "execution_count": 28,
     "metadata": {},
     "output_type": "execute_result"
    }
   ],
   "source": [
    "\"\"\"import smtplib\n",
    "from email.mime.multipart import MIMEMultipart\n",
    "from email.mime.text import MIMEText\n",
    "\n",
    "def enviar_email(asunto, cuerpo, destinatario):\n",
    "    remitente = \"estudio.csaluzzo@gmail.com\"\n",
    "    contraseña = \"**********\"\n",
    "    \n",
    "    # Configuración del mensaje\n",
    "    mensaje = MIMEMultipart()\n",
    "    mensaje['From'] = remitente\n",
    "    mensaje['To'] = destinatario\n",
    "    mensaje['Subject'] = asunto\n",
    "    mensaje.attach(MIMEText(cuerpo, 'plain'))\n",
    "\n",
    "    # Conectar y enviar\n",
    "    servidor = smtplib.SMTP('smtp.gmail.com', 587)\n",
    "    servidor.starttls()\n",
    "    servidor.login(remitente, contraseña)\n",
    "    texto = mensaje.as_string()\n",
    "    servidor.sendmail(remitente, destinatario, texto)\n",
    "    servidor.quit()\n",
    "\n",
    "    print(\"Correo enviado a\", destinatario)\"\"\"\n"
   ]
  },
  {
   "cell_type": "markdown",
   "metadata": {},
   "source": [
    "Seguridad: Nunca debes exponer contraseñas directamente en el código, ya que esto pone en riesgo tus credenciales. Usa variables de entorno o servicios seguros para gestionar tus credenciales.\n",
    "\n",
    "Acceso a Gmail: Gmail puede bloquear el acceso de aplicaciones no seguras. Es probable que necesites configurar Gmail para permitir aplicaciones menos seguras, o mejor aún, crear una contraseña de aplicaciones si tienes la verificación en dos pasos activada.\n"
   ]
  },
  {
   "cell_type": "code",
   "execution_count": 31,
   "metadata": {},
   "outputs": [],
   "source": [
    "import os\n",
    "import smtplib\n",
    "from email.mime.multipart import MIMEMultipart\n",
    "from email.mime.text import MIMEText\n",
    "\n",
    "def enviar_email(asunto, cuerpo, destinatario):\n",
    "    remitente = \"notificador.backup2024@gmail.com\"\n",
    "    contraseña = os.getenv('EMAIL_PASSWORD')  # Obtener la contraseña de las variables de entorno\n",
    "    \n",
    "    # Configuración del mensaje\n",
    "    mensaje = MIMEMultipart()\n",
    "    mensaje['From'] = remitente\n",
    "    mensaje['To'] = destinatario\n",
    "    mensaje['Subject'] = asunto\n",
    "    mensaje.attach(MIMEText(cuerpo, 'plain'))\n",
    "\n",
    "    # Conectar y enviar\n",
    "    servidor = smtplib.SMTP('smtp.gmail.com', 587)\n",
    "    servidor.starttls()\n",
    "    servidor.login(remitente, contraseña)\n",
    "    texto = mensaje.as_string()\n",
    "    servidor.sendmail(remitente, destinatario, texto)\n",
    "    servidor.quit()\n",
    "\n",
    "    print(\"Correo enviado a\", destinatario)\n"
   ]
  },
  {
   "cell_type": "markdown",
   "metadata": {},
   "source": [
    "Para mejorar la seguridad y funcionamiento:\n",
    "\n",
    "1- **Uso de variables de entorno** para la contraseña: Puedes almacenar tu contraseña en una variable de entorno en lugar de escribirla directamente en el código. Aquí un ejemplo de cómo hacerlo:\n",
    "\n",
    "Puedes establecer la variable de entorno `EMAIL_PASSWORD` en tu sistema de la siguiente manera:\n",
    "\n",
    "- En Windows:\n",
    "`setx EMAIL_PASSWORD \"tu_contraseña\"`\n",
    "\n",
    "- En Linux/MacOS:\n",
    "`export EMAIL_PASSWORD=\"tu_contraseña\"`\n",
    "\n",
    "2- **Habilitar aplicaciones menos seguras en Gmail**: Si no tienes activada la verificación en dos pasos, puedes permitir que aplicaciones menos seguras accedan a tu cuenta de Gmail:\n",
    "- Ve a Permitir el acceso de aplicaciones menos seguras y actívalo.\n",
    "\n",
    "3- **Uso de contraseñas de aplicación**: Si tienes activada la autenticación de dos pasos, lo ideal sería generar una contraseña de aplicación específica para tu script, en lugar de utilizar tu contraseña principal."
   ]
  },
  {
   "cell_type": "markdown",
   "metadata": {},
   "source": [
    "## Envío de notificaciones por WhatsApp: Usando la API de Twilio:"
   ]
  },
  {
   "cell_type": "code",
   "execution_count": 8,
   "metadata": {},
   "outputs": [],
   "source": [
    "# pip install twilio\n",
    "\n",
    "from twilio.rest import Client\n",
    "\n",
    "def enviar_whatsapp(mensaje):\n",
    "    account_sid = 'tu_account_sid'\n",
    "    auth_token = 'tu_auth_token'\n",
    "    client = Client(account_sid, auth_token)\n",
    "\n",
    "    message = client.messages.create(\n",
    "        body=mensaje,\n",
    "        from_='whatsapp:+14155238886',  # Número de Twilio\n",
    "        to='whatsapp:+tu_numero'\n",
    "    )\n",
    "    print(\"WhatsApp enviado:\", message.sid)"
   ]
  },
  {
   "cell_type": "markdown",
   "metadata": {},
   "source": [
    "## Integración: Unir la verificación del backup con el envío de notificaciones:"
   ]
  },
  {
   "cell_type": "code",
   "execution_count": 33,
   "metadata": {},
   "outputs": [
    {
     "ename": "AttributeError",
     "evalue": "'NoneType' object has no attribute 'encode'",
     "output_type": "error",
     "traceback": [
      "\u001b[1;31m---------------------------------------------------------------------------\u001b[0m",
      "\u001b[1;31mAttributeError\u001b[0m                            Traceback (most recent call last)",
      "Cell \u001b[1;32mIn[33], line 14\u001b[0m\n\u001b[0;32m     10\u001b[0m         \u001b[38;5;66;03m# enviar_email(\"Backup Fallido\", mensaje, \"csaluzzo@gmail.com\")\u001b[39;00m\n\u001b[0;32m     11\u001b[0m         \u001b[38;5;66;03m# enviar_whatsapp(mensaje)\u001b[39;00m\n\u001b[0;32m     12\u001b[0m     \u001b[38;5;28mprint\u001b[39m(mensaje)\n\u001b[1;32m---> 14\u001b[0m \u001b[43mverificar_y_notificar\u001b[49m\u001b[43m(\u001b[49m\u001b[43m)\u001b[49m\n",
      "Cell \u001b[1;32mIn[33], line 6\u001b[0m, in \u001b[0;36mverificar_y_notificar\u001b[1;34m()\u001b[0m\n\u001b[0;32m      4\u001b[0m \u001b[38;5;28;01mif\u001b[39;00m resultado[\u001b[38;5;124m'\u001b[39m\u001b[38;5;124mexiste\u001b[39m\u001b[38;5;124m'\u001b[39m]:\n\u001b[0;32m      5\u001b[0m     mensaje \u001b[38;5;241m=\u001b[39m \u001b[38;5;124mf\u001b[39m\u001b[38;5;124m\"\u001b[39m\u001b[38;5;124mBackup exitoso.\u001b[39m\u001b[38;5;130;01m\\n\u001b[39;00m\u001b[38;5;124mTamaño: \u001b[39m\u001b[38;5;132;01m{\u001b[39;00mresultado[\u001b[38;5;124m'\u001b[39m\u001b[38;5;124mtamano_gb\u001b[39m\u001b[38;5;124m'\u001b[39m]\u001b[38;5;132;01m:\u001b[39;00m\u001b[38;5;124m.2f\u001b[39m\u001b[38;5;132;01m}\u001b[39;00m\u001b[38;5;124m GB\u001b[39m\u001b[38;5;130;01m\\n\u001b[39;00m\u001b[38;5;124mFecha de creación: \u001b[39m\u001b[38;5;132;01m{\u001b[39;00mresultado[\u001b[38;5;124m'\u001b[39m\u001b[38;5;124mfecha_creacion\u001b[39m\u001b[38;5;124m'\u001b[39m]\u001b[38;5;132;01m}\u001b[39;00m\u001b[38;5;124m\"\u001b[39m\n\u001b[1;32m----> 6\u001b[0m     \u001b[43menviar_email\u001b[49m\u001b[43m(\u001b[49m\u001b[38;5;124;43m\"\u001b[39;49m\u001b[38;5;124;43mBackup Exitoso\u001b[39;49m\u001b[38;5;124;43m\"\u001b[39;49m\u001b[43m,\u001b[49m\u001b[43m \u001b[49m\u001b[43mmensaje\u001b[49m\u001b[43m,\u001b[49m\u001b[43m \u001b[49m\u001b[38;5;124;43m\"\u001b[39;49m\u001b[38;5;124;43mestudio.csaluzzo@gmail.com\u001b[39;49m\u001b[38;5;124;43m\"\u001b[39;49m\u001b[43m)\u001b[49m\n\u001b[0;32m      7\u001b[0m     \u001b[38;5;66;03m# enviar_whatsapp(mensaje)\u001b[39;00m\n\u001b[0;32m      8\u001b[0m \u001b[38;5;28;01melse\u001b[39;00m:\n\u001b[0;32m      9\u001b[0m     mensaje \u001b[38;5;241m=\u001b[39m \u001b[38;5;124m\"\u001b[39m\u001b[38;5;124mERROR: No se ha generado el archivo de backup.\u001b[39m\u001b[38;5;124m\"\u001b[39m\n",
      "Cell \u001b[1;32mIn[31], line 20\u001b[0m, in \u001b[0;36menviar_email\u001b[1;34m(asunto, cuerpo, destinatario)\u001b[0m\n\u001b[0;32m     18\u001b[0m servidor \u001b[38;5;241m=\u001b[39m smtplib\u001b[38;5;241m.\u001b[39mSMTP(\u001b[38;5;124m'\u001b[39m\u001b[38;5;124msmtp.gmail.com\u001b[39m\u001b[38;5;124m'\u001b[39m, \u001b[38;5;241m587\u001b[39m)\n\u001b[0;32m     19\u001b[0m servidor\u001b[38;5;241m.\u001b[39mstarttls()\n\u001b[1;32m---> 20\u001b[0m \u001b[43mservidor\u001b[49m\u001b[38;5;241;43m.\u001b[39;49m\u001b[43mlogin\u001b[49m\u001b[43m(\u001b[49m\u001b[43mremitente\u001b[49m\u001b[43m,\u001b[49m\u001b[43m \u001b[49m\u001b[43mcontraseña\u001b[49m\u001b[43m)\u001b[49m\n\u001b[0;32m     21\u001b[0m texto \u001b[38;5;241m=\u001b[39m mensaje\u001b[38;5;241m.\u001b[39mas_string()\n\u001b[0;32m     22\u001b[0m servidor\u001b[38;5;241m.\u001b[39msendmail(remitente, destinatario, texto)\n",
      "File \u001b[1;32m~\\AppData\\Local\\Programs\\Python\\Python312\\Lib\\smtplib.py:739\u001b[0m, in \u001b[0;36mSMTP.login\u001b[1;34m(self, user, password, initial_response_ok)\u001b[0m\n\u001b[0;32m    737\u001b[0m method_name \u001b[38;5;241m=\u001b[39m \u001b[38;5;124m'\u001b[39m\u001b[38;5;124mauth_\u001b[39m\u001b[38;5;124m'\u001b[39m \u001b[38;5;241m+\u001b[39m authmethod\u001b[38;5;241m.\u001b[39mlower()\u001b[38;5;241m.\u001b[39mreplace(\u001b[38;5;124m'\u001b[39m\u001b[38;5;124m-\u001b[39m\u001b[38;5;124m'\u001b[39m, \u001b[38;5;124m'\u001b[39m\u001b[38;5;124m_\u001b[39m\u001b[38;5;124m'\u001b[39m)\n\u001b[0;32m    738\u001b[0m \u001b[38;5;28;01mtry\u001b[39;00m:\n\u001b[1;32m--> 739\u001b[0m     (code, resp) \u001b[38;5;241m=\u001b[39m \u001b[38;5;28;43mself\u001b[39;49m\u001b[38;5;241;43m.\u001b[39;49m\u001b[43mauth\u001b[49m\u001b[43m(\u001b[49m\n\u001b[0;32m    740\u001b[0m \u001b[43m        \u001b[49m\u001b[43mauthmethod\u001b[49m\u001b[43m,\u001b[49m\u001b[43m \u001b[49m\u001b[38;5;28;43mgetattr\u001b[39;49m\u001b[43m(\u001b[49m\u001b[38;5;28;43mself\u001b[39;49m\u001b[43m,\u001b[49m\u001b[43m \u001b[49m\u001b[43mmethod_name\u001b[49m\u001b[43m)\u001b[49m\u001b[43m,\u001b[49m\n\u001b[0;32m    741\u001b[0m \u001b[43m        \u001b[49m\u001b[43minitial_response_ok\u001b[49m\u001b[38;5;241;43m=\u001b[39;49m\u001b[43minitial_response_ok\u001b[49m\u001b[43m)\u001b[49m\n\u001b[0;32m    742\u001b[0m     \u001b[38;5;66;03m# 235 == 'Authentication successful'\u001b[39;00m\n\u001b[0;32m    743\u001b[0m     \u001b[38;5;66;03m# 503 == 'Error: already authenticated'\u001b[39;00m\n\u001b[0;32m    744\u001b[0m     \u001b[38;5;28;01mif\u001b[39;00m code \u001b[38;5;129;01min\u001b[39;00m (\u001b[38;5;241m235\u001b[39m, \u001b[38;5;241m503\u001b[39m):\n",
      "File \u001b[1;32m~\\AppData\\Local\\Programs\\Python\\Python312\\Lib\\smtplib.py:652\u001b[0m, in \u001b[0;36mSMTP.auth\u001b[1;34m(self, mechanism, authobject, initial_response_ok)\u001b[0m\n\u001b[0;32m    649\u001b[0m \u001b[38;5;28mself\u001b[39m\u001b[38;5;241m.\u001b[39m_auth_challenge_count \u001b[38;5;241m+\u001b[39m\u001b[38;5;241m=\u001b[39m \u001b[38;5;241m1\u001b[39m\n\u001b[0;32m    650\u001b[0m challenge \u001b[38;5;241m=\u001b[39m base64\u001b[38;5;241m.\u001b[39mdecodebytes(resp)\n\u001b[0;32m    651\u001b[0m response \u001b[38;5;241m=\u001b[39m encode_base64(\n\u001b[1;32m--> 652\u001b[0m     \u001b[43mauthobject\u001b[49m\u001b[43m(\u001b[49m\u001b[43mchallenge\u001b[49m\u001b[43m)\u001b[49m\u001b[38;5;241;43m.\u001b[39;49m\u001b[43mencode\u001b[49m(\u001b[38;5;124m'\u001b[39m\u001b[38;5;124mascii\u001b[39m\u001b[38;5;124m'\u001b[39m), eol\u001b[38;5;241m=\u001b[39m\u001b[38;5;124m'\u001b[39m\u001b[38;5;124m'\u001b[39m)\n\u001b[0;32m    653\u001b[0m (code, resp) \u001b[38;5;241m=\u001b[39m \u001b[38;5;28mself\u001b[39m\u001b[38;5;241m.\u001b[39mdocmd(response)\n\u001b[0;32m    654\u001b[0m \u001b[38;5;66;03m# If server keeps sending challenges, something is wrong.\u001b[39;00m\n",
      "\u001b[1;31mAttributeError\u001b[0m: 'NoneType' object has no attribute 'encode'"
     ]
    }
   ],
   "source": [
    "def verificar_y_notificar():\n",
    "    resultado = verificar_backup('D:\\\\Etsol\\\\Clientes\\\\Act Yapur\\\\DBSIF.FBK')\n",
    "\n",
    "    if resultado['existe']:\n",
    "        mensaje = f\"Backup exitoso.\\nTamaño: {resultado['tamano_gb']:.2f} GB\\nFecha de creación: {resultado['fecha_creacion']}\"\n",
    "        enviar_email(\"Backup Exitoso\", mensaje, \"estudio.csaluzzo@gmail.com\")\n",
    "        # enviar_whatsapp(mensaje)\n",
    "    else:\n",
    "        mensaje = \"ERROR: No se ha generado el archivo de backup.\"\n",
    "        enviar_email(\"Backup Fallido\", mensaje, \"estudio.csaluzzo@gmail.com\")\n",
    "        # enviar_whatsapp(mensaje)\n",
    "    print(mensaje)\n",
    "\n",
    "verificar_y_notificar()\n"
   ]
  },
  {
   "cell_type": "code",
   "execution_count": 14,
   "metadata": {},
   "outputs": [
    {
     "name": "stdout",
     "output_type": "stream",
     "text": [
      "existe True tamano_gb 6.917958736419678 fecha_creacion 2023-08-31 23:06:29\n"
     ]
    },
    {
     "name": "stderr",
     "output_type": "stream",
     "text": [
      "<>:4: SyntaxWarning: invalid escape sequence '\\E'\n",
      "<>:4: SyntaxWarning: invalid escape sequence '\\E'\n",
      "C:\\Users\\USUARIO\\AppData\\Local\\Temp\\ipykernel_18348\\3073632685.py:4: SyntaxWarning: invalid escape sequence '\\E'\n",
      "  ruta_backup = \"D:\\Etsol\\Clientes\\Act Yapur\\DBSIF.FBK\"\n"
     ]
    }
   ],
   "source": [
    "# Verificar si funciona ruta de archivo\n",
    "\n",
    "# resultado = verificar_backup('D:\\Etsol\\Clientes\\Act Yapur\\DBSIF.FBK')\n",
    "\"\"\"ruta_backup = \"D:\\Etsol\\Clientes\\Act Yapur\\DBSIF.FBK\"\n",
    "if os.path.exists(ruta_backup):\n",
    "        # Obtener el tamaño en GB\n",
    "        tamano = os.path.getsize(ruta_backup) / (1024 * 1024 * 1024)\n",
    "        # Obtener fecha de creación/modificación\n",
    "        timestamp = os.path.getmtime(ruta_backup)\n",
    "        fecha_creacion = time.strftime('%Y-%m-%d %H:%M:%S', time.localtime(timestamp))\n",
    "        print(f\"existe {True} tamano_gb {tamano} fecha_creacion {fecha_creacion}\")\"\"\"\n",
    "        \n",
    "\n"
   ]
  }
 ],
 "metadata": {
  "kernelspec": {
   "display_name": ".env",
   "language": "python",
   "name": "python3"
  },
  "language_info": {
   "codemirror_mode": {
    "name": "ipython",
    "version": 3
   },
   "file_extension": ".py",
   "mimetype": "text/x-python",
   "name": "python",
   "nbconvert_exporter": "python",
   "pygments_lexer": "ipython3",
   "version": "3.12.3"
  }
 },
 "nbformat": 4,
 "nbformat_minor": 2
}
