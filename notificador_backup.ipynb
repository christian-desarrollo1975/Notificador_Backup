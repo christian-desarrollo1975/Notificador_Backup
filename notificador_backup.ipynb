{
 "cells": [
  {
   "cell_type": "markdown",
   "metadata": {},
   "source": [
    "## Estructura de la Aplicación:\n",
    "\n",
    "- **Verificación del backup:**\n",
    "    - Detectar la presencia del archivo DBSIF.FBK.\n",
    "    - Verificar la fecha y hora de creación/modificación.\n",
    "    - Obtener el tamaño del archivo.\n",
    "\n",
    "- **Notificación por Email y/o WhatsApp:**\n",
    "    - Si el backup es exitoso (el archivo cumple con los criterios), se envía una notificación.\n",
    "    - En caso de fallo (si no se genera el archivo o tiene un tamaño inesperado), enviar una alerta."
   ]
  },
  {
   "cell_type": "markdown",
   "metadata": {},
   "source": [
    "**Requisitos:**\n",
    "\n",
    "- Bibliotecas necesarias:\n",
    "    - `os` para verificar el archivo.\n",
    "    - `smtplib` para enviar emails.\n",
    "    - API de WhatsApp (podemos usar Twilio o alguna otra plataforma que permita la integración).\n",
    "    - `schedule` o utilizar una tarea programada en Windows para ejecutar la verificación."
   ]
  },
  {
   "cell_type": "markdown",
   "metadata": {},
   "source": [
    "## Verificación del archivo DBSIF.FBK:\n"
   ]
  },
  {
   "cell_type": "code",
   "execution_count": 10,
   "metadata": {},
   "outputs": [],
   "source": [
    "# Importamos librerías\n",
    "\n",
    "import os\n",
    "import time\n",
    "import smtplib\n",
    "import ssl\n",
    "\n",
    "from email.mime.multipart import MIMEMultipart\n",
    "from email.mime.text import MIMEText"
   ]
  },
  {
   "cell_type": "code",
   "execution_count": 11,
   "metadata": {},
   "outputs": [],
   "source": [
    "def verificar_backup(ruta_backup):\n",
    "    # Verificar si el archivo existe\n",
    "    if os.path.exists(ruta_backup):\n",
    "        # Obtener el tamaño en GB\n",
    "        tamano = os.path.getsize(ruta_backup) / (1024 * 1024 * 1024)\n",
    "        # Obtener fecha de creación/modificación\n",
    "        timestamp = os.path.getmtime(ruta_backup)\n",
    "        fecha_creacion = time.strftime('%Y-%m-%d %H:%M:%S', time.localtime(timestamp))\n",
    "\n",
    "        return {\"existe\": True, \"tamano_gb\": tamano, \"fecha_creacion\": fecha_creacion}\n",
    "    else:\n",
    "        return {\"existe\": False}\n"
   ]
  },
  {
   "cell_type": "markdown",
   "metadata": {},
   "source": [
    "\n",
    "## Envío de notificaciones por correo electrónico:"
   ]
  },
  {
   "cell_type": "code",
   "execution_count": 28,
   "metadata": {},
   "outputs": [
    {
     "data": {
      "text/plain": [
       "'import smtplib\\nfrom email.mime.multipart import MIMEMultipart\\nfrom email.mime.text import MIMEText\\n\\ndef enviar_email(asunto, cuerpo, destinatario):\\n    remitente = \"estudio.csaluzzo@gmail.com\"\\n    contraseña = \"**********\"\\n    \\n    # Configuración del mensaje\\n    mensaje = MIMEMultipart()\\n    mensaje[\\'From\\'] = remitente\\n    mensaje[\\'To\\'] = destinatario\\n    mensaje[\\'Subject\\'] = asunto\\n    mensaje.attach(MIMEText(cuerpo, \\'plain\\'))\\n\\n    # Conectar y enviar\\n    servidor = smtplib.SMTP(\\'smtp.gmail.com\\', 587)\\n    servidor.starttls()\\n    servidor.login(remitente, contraseña)\\n    texto = mensaje.as_string()\\n    servidor.sendmail(remitente, destinatario, texto)\\n    servidor.quit()\\n\\n    print(\"Correo enviado a\", destinatario)'"
      ]
     },
     "execution_count": 28,
     "metadata": {},
     "output_type": "execute_result"
    }
   ],
   "source": [
    "\"\"\"import smtplib\n",
    "from email.mime.multipart import MIMEMultipart\n",
    "from email.mime.text import MIMEText\n",
    "\n",
    "def enviar_email(asunto, cuerpo, destinatario):\n",
    "    remitente = \"estudio.csaluzzo@gmail.com\"\n",
    "    contraseña = \"**********\"\n",
    "    \n",
    "    # Configuración del mensaje\n",
    "    mensaje = MIMEMultipart()\n",
    "    mensaje['From'] = remitente\n",
    "    mensaje['To'] = destinatario\n",
    "    mensaje['Subject'] = asunto\n",
    "    mensaje.attach(MIMEText(cuerpo, 'plain'))\n",
    "\n",
    "    # Conectar y enviar\n",
    "    servidor = smtplib.SMTP('smtp.gmail.com', 587)\n",
    "    servidor.starttls()\n",
    "    servidor.login(remitente, contraseña)\n",
    "    texto = mensaje.as_string()\n",
    "    servidor.sendmail(remitente, destinatario, texto)\n",
    "    servidor.quit()\n",
    "\n",
    "    print(\"Correo enviado a\", destinatario)\"\"\"\n"
   ]
  },
  {
   "cell_type": "markdown",
   "metadata": {},
   "source": [
    "Seguridad: Nunca debes exponer contraseñas directamente en el código, ya que esto pone en riesgo tus credenciales. Usa variables de entorno o servicios seguros para gestionar tus credenciales.\n",
    "\n",
    "Acceso a Gmail: Gmail puede bloquear el acceso de aplicaciones no seguras. Es probable que necesites configurar Gmail para permitir aplicaciones menos seguras, o mejor aún, crear una contraseña de aplicaciones si tienes la verificación en dos pasos activada.\n"
   ]
  },
  {
   "cell_type": "code",
   "execution_count": 12,
   "metadata": {},
   "outputs": [],
   "source": [
    "\n",
    "\n",
    "def enviar_email2(asunto, cuerpo, destinatario):\n",
    "\n",
    "    # Configura los detalles del correo\n",
    "    sender_email = \"notificador.backup2024@gmail.com\"  # Cambia esto por tu correo\n",
    "    app_password = os.getenv(\"APP_PYTHON\")  # Obtén la App Password desde la variable de entorno\n",
    "    receiver_email = destinatario  # Cambia esto por el correo del receptor\n",
    "    subject = asunto\n",
    "    body = cuerpo\n",
    "\n",
    "    # Crear el mensaje\n",
    "    message = MIMEMultipart()\n",
    "    message[\"From\"] = sender_email\n",
    "    message[\"To\"] = receiver_email\n",
    "    message[\"Subject\"] = subject\n",
    "    message.attach(MIMEText(body, \"plain\"))\n",
    "\n",
    "    # Conexión al servidor SMTP de Gmail\n",
    "    smtp_server = \"smtp.gmail.com\"\n",
    "    port = 465  # Puerto SSL\n",
    "\n",
    "    # Crear una conexión segura con SSL\n",
    "    context = ssl.create_default_context()\n",
    "\n",
    "    try:\n",
    "        # Conectarse al servidor de correo\n",
    "        with smtplib.SMTP_SSL(smtp_server, port, context=context) as server:\n",
    "            server.login(sender_email, app_password)  # Autenticarse con tu cuenta de Gmail\n",
    "            server.sendmail(sender_email, receiver_email, message.as_string())  # Enviar el correo\n",
    "        print(\"Correo enviado exitosamente\")\n",
    "    except Exception as e:\n",
    "        print(f\"Error: {e}\")\n"
   ]
  },
  {
   "cell_type": "markdown",
   "metadata": {},
   "source": [
    "Para mejorar la seguridad y funcionamiento:\n",
    "\n",
    "1- **Uso de variables de entorno** para la contraseña: Puedes almacenar tu contraseña en una variable de entorno en lugar de escribirla directamente en el código. Aquí un ejemplo de cómo hacerlo:\n",
    "\n",
    "Puedes establecer la variable de entorno `EMAIL_PASSWORD` en tu sistema de la siguiente manera:\n",
    "\n",
    "- En Windows:\n",
    "`setx EMAIL_PASSWORD \"tu_contraseña\"`\n",
    "\n",
    "- En Linux/MacOS:\n",
    "`export EMAIL_PASSWORD=\"tu_contraseña\"`\n",
    "\n",
    "2- **Habilitar aplicaciones menos seguras en Gmail**: Si no tienes activada la verificación en dos pasos, puedes permitir que aplicaciones menos seguras accedan a tu cuenta de Gmail:\n",
    "- Ve a Permitir el acceso de aplicaciones menos seguras y actívalo.\n",
    "\n",
    "3- **Uso de contraseñas de aplicación**: Si tienes activada la autenticación de dos pasos, lo ideal sería generar una contraseña de aplicación específica para tu script, en lugar de utilizar tu contraseña principal."
   ]
  },
  {
   "cell_type": "markdown",
   "metadata": {},
   "source": [
    "## Envío de notificaciones por WhatsApp: Usando la API de Twilio:"
   ]
  },
  {
   "cell_type": "code",
   "execution_count": 4,
   "metadata": {},
   "outputs": [
    {
     "ename": "ModuleNotFoundError",
     "evalue": "No module named 'twilio'",
     "output_type": "error",
     "traceback": [
      "\u001b[1;31m---------------------------------------------------------------------------\u001b[0m",
      "\u001b[1;31mModuleNotFoundError\u001b[0m                       Traceback (most recent call last)",
      "Cell \u001b[1;32mIn[4], line 3\u001b[0m\n\u001b[0;32m      1\u001b[0m \u001b[38;5;66;03m# pip install twilio\u001b[39;00m\n\u001b[1;32m----> 3\u001b[0m \u001b[38;5;28;01mfrom\u001b[39;00m \u001b[38;5;21;01mtwilio\u001b[39;00m\u001b[38;5;21;01m.\u001b[39;00m\u001b[38;5;21;01mrest\u001b[39;00m \u001b[38;5;28;01mimport\u001b[39;00m Client\n\u001b[0;32m      5\u001b[0m \u001b[38;5;28;01mdef\u001b[39;00m \u001b[38;5;21menviar_whatsapp\u001b[39m(mensaje):\n\u001b[0;32m      6\u001b[0m     account_sid \u001b[38;5;241m=\u001b[39m \u001b[38;5;124m'\u001b[39m\u001b[38;5;124mtu_account_sid\u001b[39m\u001b[38;5;124m'\u001b[39m\n",
      "\u001b[1;31mModuleNotFoundError\u001b[0m: No module named 'twilio'"
     ]
    }
   ],
   "source": [
    "# pip install twilio\n",
    "\n",
    "from twilio.rest import Client\n",
    "\n",
    "def enviar_whatsapp(mensaje):\n",
    "    account_sid = 'tu_account_sid'\n",
    "    auth_token = 'tu_auth_token'\n",
    "    client = Client(account_sid, auth_token)\n",
    "\n",
    "    message = client.messages.create(\n",
    "        body=mensaje,\n",
    "        from_='whatsapp:+14155238886',  # Número de Twilio\n",
    "        to='whatsapp:+tu_numero'\n",
    "    )\n",
    "    print(\"WhatsApp enviado:\", message.sid)"
   ]
  },
  {
   "cell_type": "markdown",
   "metadata": {},
   "source": [
    "## Integración: Unir la verificación del backup con el envío de notificaciones:"
   ]
  },
  {
   "cell_type": "code",
   "execution_count": 14,
   "metadata": {},
   "outputs": [
    {
     "name": "stdout",
     "output_type": "stream",
     "text": [
      "Correo enviado exitosamente\n",
      "ERROR: No se ha generado el archivo de backup.\n"
     ]
    }
   ],
   "source": [
    "def verificar_y_notificar():\n",
    "    resultado = verificar_backup('D:\\\\Etsol\\\\Clientes\\\\Act Yapur\\\\DBSIF.FBK')\n",
    "\n",
    "    if resultado['existe']:\n",
    "        mensaje = f\"Backup exitoso.\\nTamaño: {resultado['tamano_gb']:.2f} GB\\nFecha de creación: {resultado['fecha_creacion']}\"\n",
    "        enviar_email2(\"Backup Exitoso\", mensaje, \"csaluzzo@gmail.com\")\n",
    "        # enviar_whatsapp(mensaje)\n",
    "    else:\n",
    "        mensaje = \"ERROR: No se ha generado el archivo de backup.\"\n",
    "        enviar_email2(\"Backup Fallido\", mensaje, \"csaluzzo@gmail.com\")\n",
    "        # enviar_whatsapp(mensaje)\n",
    "    print(mensaje)\n",
    "\n",
    "verificar_y_notificar()\n"
   ]
  },
  {
   "cell_type": "code",
   "execution_count": null,
   "metadata": {},
   "outputs": [],
   "source": []
  },
  {
   "cell_type": "markdown",
   "metadata": {},
   "source": [
    "# Pruebas de funcionamiento del envío de mail\n",
    "-  con cuenta `@gmail.com`"
   ]
  },
  {
   "cell_type": "code",
   "execution_count": 9,
   "metadata": {},
   "outputs": [
    {
     "name": "stdout",
     "output_type": "stream",
     "text": [
      "Correo enviado exitosamente\n"
     ]
    }
   ],
   "source": [
    "\n",
    "\n",
    "# Configura los detalles del correo\n",
    "sender_email = \"notificador.backup2024@gmail.com\"  # Cambia esto por tu correo\n",
    "# app_password = \"gaav nwjq ihll pogd\"     # Coloca aquí tu App Password de Gmail\n",
    "app_password = os.getenv(\"APP_PYTHON\")  # Obtén la App Password desde la variable de entorno\n",
    "receiver_email = \"csaluzzo@gmail.com\"  # Cambia esto por el correo del receptor\n",
    "subject = \"Prueba de envío de correo\"\n",
    "body = \"Este es un correo de prueba enviado desde Python utilizando App Passwords.\"\n",
    "\n",
    "# Crear el mensaje\n",
    "message = MIMEMultipart()\n",
    "message[\"From\"] = sender_email\n",
    "message[\"To\"] = receiver_email\n",
    "message[\"Subject\"] = subject\n",
    "message.attach(MIMEText(body, \"plain\"))\n",
    "\n",
    "# Conexión al servidor SMTP de Gmail\n",
    "smtp_server = \"smtp.gmail.com\"\n",
    "port = 465  # Puerto SSL\n",
    "\n",
    "# Crear una conexión segura con SSL\n",
    "context = ssl.create_default_context()\n",
    "\n",
    "try:\n",
    "    # Conectarse al servidor de correo\n",
    "    with smtplib.SMTP_SSL(smtp_server, port, context=context) as server:\n",
    "        server.login(sender_email, app_password)  # Autenticarse con tu cuenta de Gmail\n",
    "        server.sendmail(sender_email, receiver_email, message.as_string())  # Enviar el correo\n",
    "    print(\"Correo enviado exitosamente\")\n",
    "except Exception as e:\n",
    "    print(f\"Error: {e}\")\n"
   ]
  },
  {
   "cell_type": "code",
   "execution_count": 8,
   "metadata": {},
   "outputs": [
    {
     "name": "stdout",
     "output_type": "stream",
     "text": [
      "gaav nwjq ihll pogd\n"
     ]
    }
   ],
   "source": [
    "\"\"\"\n",
    "\n",
    "import os\n",
    "import smtplib\n",
    "import ssl\n",
    "from email.mime.text import MIMEText\n",
    "from email.mime.multipart import MIMEMultipart\n",
    "\n",
    "# Configura los detalles del correo\n",
    "sender_email = \"notificador.backup2024@gmail.com\"  # Cambia esto por tu correo\n",
    "app_password = os.getenv(\"APP_PYTHON\")  # Obtén la App Password desde la variable de entorno\n",
    "print(app_password)\n",
    "receiver_email = \"csaluzzo@gmail.com\"  # Cambia esto por el correo del receptor\n",
    "subject = \"Prueba de envío de correo\"\n",
    "body = \"Este es un correo de prueba enviado desde Python utilizando App Passwords y una variable de entorno.\"\n",
    "\n",
    "# Crear el mensaje\n",
    "message = MIMEMultipart()\n",
    "message[\"From\"] = sender_email\n",
    "message[\"To\"] = receiver_email\n",
    "message[\"Subject\"] = subject\n",
    "message.attach(MIMEText(body, \"plain\"))\n",
    "\n",
    "# Conexión\n",
    "\n",
    "\"\"\""
   ]
  },
  {
   "cell_type": "code",
   "execution_count": null,
   "metadata": {},
   "outputs": [],
   "source": []
  }
 ],
 "metadata": {
  "kernelspec": {
   "display_name": ".env",
   "language": "python",
   "name": "python3"
  },
  "language_info": {
   "codemirror_mode": {
    "name": "ipython",
    "version": 3
   },
   "file_extension": ".py",
   "mimetype": "text/x-python",
   "name": "python",
   "nbconvert_exporter": "python",
   "pygments_lexer": "ipython3",
   "version": "3.12.3"
  }
 },
 "nbformat": 4,
 "nbformat_minor": 2
}
