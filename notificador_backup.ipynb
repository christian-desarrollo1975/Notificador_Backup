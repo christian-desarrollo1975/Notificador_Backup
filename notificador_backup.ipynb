{
 "cells": [
  {
   "cell_type": "markdown",
   "metadata": {},
   "source": [
    "## Estructura de la Aplicación:\n",
    "\n",
    "- **Verificación del backup:**\n",
    "    - Detectar la presencia del archivo DBSIF.FBK.\n",
    "    - Verificar la fecha y hora de creación/modificación.\n",
    "    - Obtener el tamaño del archivo.\n",
    "\n",
    "- **Notificación por Email y/o WhatsApp:**\n",
    "    - Si el backup es exitoso (el archivo cumple con los criterios), se envía una notificación.\n",
    "    - En caso de fallo (si no se genera el archivo o tiene un tamaño inesperado), enviar una alerta."
   ]
  },
  {
   "cell_type": "markdown",
   "metadata": {},
   "source": [
    "**Requisitos:**\n",
    "\n",
    "- Bibliotecas necesarias:\n",
    "    - `os` para verificar el archivo.\n",
    "    - `smtplib` para enviar emails.\n",
    "    - API de WhatsApp (podemos usar Twilio o alguna otra plataforma que permita la integración).\n",
    "    - `schedule` o utilizar una tarea programada en Windows para ejecutar la verificación."
   ]
  },
  {
   "cell_type": "markdown",
   "metadata": {},
   "source": [
    "## Verificación del archivo DBSIF.FBK:\n"
   ]
  },
  {
   "cell_type": "code",
   "execution_count": 1,
   "metadata": {},
   "outputs": [],
   "source": [
    "# Importamos librerías\n",
    "\n",
    "import os\n",
    "import time\n",
    "import smtplib\n",
    "import ssl\n",
    "import configparser\n",
    "\n",
    "from email.mime.multipart import MIMEMultipart\n",
    "from email.mime.text import MIMEText"
   ]
  },
  {
   "cell_type": "markdown",
   "metadata": {},
   "source": [
    "\n",
    "## Configuraciones\n",
    "- email envío\n",
    "- contraseña con variables de entorno\n",
    "- Ruta de la DB\n",
    "- email destino"
   ]
  },
  {
   "cell_type": "markdown",
   "metadata": {},
   "source": [
    "Para configurar los parámetros de tu aplicación en un archivo `config.ini`, puedes utilizar el módulo `configparser de Python`, que facilita la lectura y escritura de archivos de configuración.\n",
    "\n",
    "El archivo `config.ini` sigue una estructura en la que los parámetros se agrupan en secciones, y cada sección contiene claves y valores. A continuación, te muestro un ejemplo básico y cómo utilizarlo en tu código Python:\n",
    "\n",
    "1. **Ejemplo de archivo config.ini:**\n",
    "\n",
    "```python\n",
    "[Database]\n",
    "host = localhost\n",
    "port = 5432\n",
    "user = admin\n",
    "password = secret\n",
    "\n",
    "[Logging]\n",
    "log_level = INFO\n",
    "log_file = /var/log/myapp.log\n",
    "\n",
    "[API]\n",
    "endpoint = https://api.example.com\n",
    "api_key = your-api-key\n",
    "timeout = 30\n",
    "```\n",
    "\n",
    "- [Database]: Parámetros relacionados con la base de datos.\n",
    "- [Logging]: Configuraciones de registro/logging.\n",
    "- [API]: Configuración para acceso a una API.\n",
    "\n",
    "2. **Cómo leer el archivo config.ini desde Python:**\n",
    "Primero, necesitas importar el módulo configparser y luego leer el archivo config.ini para acceder a los valores.\n",
    "\n",
    "```Python\n",
    "\n",
    "import configparser\n",
    "\n",
    "# Crear un objeto ConfigParser\n",
    "config = configparser.ConfigParser()\n",
    "\n",
    "# Leer el archivo de configuración\n",
    "config.read('config.ini')\n",
    "\n",
    "# Acceder a los parámetros\n",
    "db_host = config['Database']['host']\n",
    "db_port = config['Database'].getint('port')  # convertimos a entero\n",
    "db_user = config['Database']['user']\n",
    "db_password = config['Database']['password']\n",
    "\n",
    "log_level = config['Logging']['log_level']\n",
    "log_file = config['Logging']['log_file']\n",
    "\n",
    "api_endpoint = config['API']['endpoint']\n",
    "api_key = config['API']['api_key']\n",
    "timeout = config['API'].getint('timeout')  # convertimos a entero\n",
    "\n",
    "# Mostrar algunos valores para verificar\n",
    "print(f\"Connecting to database on {db_host}:{db_port} as {db_user}\")\n",
    "print(f\"Logging at {log_level} level to {log_file}\")\n",
    "print(f\"API endpoint: {api_endpoint}, Timeout: {timeout} seconds\") \n",
    "```\n",
    "\n",
    "\n",
    "3. **Ventajas de usar config.ini:**\n",
    "\n",
    "- *Separación de código y configuración:*\n",
    "Los parámetros de configuración no están embebidos en el código, lo que facilita su modificación sin tocar la lógica de la aplicación.\n",
    "\n",
    "- *Facilidad de uso:*\n",
    "Es simple de leer y modificar tanto para humanos como para programas.\n",
    "Flexibilidad: Puedes agregar nuevas secciones y parámetros sin cambiar el código de la aplicación.\n",
    "\n",
    "\n",
    "\n",
    "\n",
    "\n"
   ]
  },
  {
   "cell_type": "code",
   "execution_count": 2,
   "metadata": {},
   "outputs": [
    {
     "name": "stdout",
     "output_type": "stream",
     "text": [
      "Backup path: D://Etsol//Clientes//Act Yapur//DBSIF.FBK\n",
      "Email Origin: notificador.backup2024@gmail.com\n",
      "Email Destination: csaluzzo@gmail.com\n",
      "Email CC: None\n",
      "Email CCO: None\n",
      "Email Password (from env): gaav nwjq ihll pogd\n"
     ]
    }
   ],
   "source": [
    "\n",
    "# Crear un objeto ConfigParser\n",
    "config = configparser.ConfigParser()\n",
    "\n",
    "# Leer el archivo de configuración\n",
    "config.read('config.ini')\n",
    "\n",
    "# Acceder a los parámetros\n",
    "backup_path = config['Backup']['path']\n",
    "# Opción: Asegurar que las barras estén correctamente escapadas\n",
    "backup_path = backup_path.replace(\"\\\\\", \"/\")  # o usa \"\\\\\\\\\" para barras dobles\n",
    "\n",
    "email_origin = config['Email']['email_origin']\n",
    "email_destination = config['Email']['email_destination']\n",
    "email_cc = config['Email']['email_cc'] if config['Email']['email_cc'] else None\n",
    "email_cco = config['Email']['email_cco'] if config['Email']['email_cco'] else None\n",
    "\n",
    "# Obtener la variable de entorno para la clave del correo\n",
    "email_password = os.getenv(config['Email']['env_variable_key'])\n",
    "\n",
    "# Mostrar algunos valores para verificar\n",
    "print(f\"Backup path: {backup_path}\")\n",
    "print(f\"Email Origin: {email_origin}\")\n",
    "print(f\"Email Destination: {email_destination}\")\n",
    "print(f\"Email CC: {email_cc}\")\n",
    "print(f\"Email CCO: {email_cco}\")\n",
    "print(f\"Email Password (from env): {email_password if email_password else 'No environment variable set'}\")\n",
    "\n"
   ]
  },
  {
   "cell_type": "code",
   "execution_count": 3,
   "metadata": {},
   "outputs": [],
   "source": [
    "def verificar_backup(ruta_backup):\n",
    "    # Verificar si el archivo existe\n",
    "    if os.path.exists(ruta_backup):\n",
    "        # Obtener el tamaño en GB\n",
    "        tamano = os.path.getsize(ruta_backup) / (1024 * 1024 * 1024)\n",
    "        # Obtener fecha de creación/modificación\n",
    "        timestamp = os.path.getmtime(ruta_backup)\n",
    "        fecha_creacion = time.strftime('%Y-%m-%d %H:%M:%S', time.localtime(timestamp))\n",
    "\n",
    "        return {\"existe\": True, \"tamano_gb\": tamano, \"fecha_creacion\": fecha_creacion}\n",
    "    else:\n",
    "        return {\"existe\": False}\n"
   ]
  },
  {
   "cell_type": "markdown",
   "metadata": {},
   "source": [
    "Seguridad: Nunca debes exponer contraseñas directamente en el código, ya que esto pone en riesgo tus credenciales. Usa variables de entorno o servicios seguros para gestionar tus credenciales.\n",
    "\n",
    "Acceso a Gmail: Gmail puede bloquear el acceso de aplicaciones no seguras. Es probable que necesites configurar Gmail para permitir aplicaciones menos seguras, o mejor aún, crear una contraseña de aplicaciones si tienes la verificación en dos pasos activada.\n"
   ]
  },
  {
   "cell_type": "code",
   "execution_count": 4,
   "metadata": {},
   "outputs": [],
   "source": [
    "\n",
    "\n",
    "def enviar_email(asunto, cuerpo,  mail_o, mail_d, mail_cc, mail_cco, mail_pass):\n",
    "    # \"Backup Fallido\", mensaje, mail_o, mail_d, mail_cc, mail_cco, mail_pass\n",
    "\n",
    "    # Configura los detalles del correo\n",
    "    \"\"\"\n",
    "    sender_email = \"notificador.backup2024@gmail.com\"  # Cambia esto por tu correo\n",
    "    app_password = os.getenv(\"APP_PYTHON\")  # Obtén la App Password desde la variable de entorno\n",
    "    receiver_email = mail_d  # Cambia esto por el correo del receptor\n",
    "    subject = asunto\n",
    "    body = cuerpo\"\"\"\n",
    "\n",
    "    # Crear el mensaje\n",
    "    message = MIMEMultipart()\n",
    "    message[\"From\"] = mail_o\n",
    "    message[\"To\"] = mail_d\n",
    "    message[\"Cc\"] = mail_cc\n",
    "    message[\"Cco\"] = mail_cco\n",
    "    message[\"Subject\"] = asunto\n",
    "    message.attach(MIMEText(cuerpo, \"plain\"))\n",
    "\n",
    "    \"\"\"message = MIMEMultipart()\n",
    "    message[\"From\"] = sender_email\n",
    "    message[\"To\"] = receiver_email\n",
    "    message[\"Subject\"] = subject\n",
    "    message.attach(MIMEText(body, \"plain\"))\"\"\"\n",
    "\n",
    "\n",
    "\n",
    "\n",
    "    # Conexión al servidor SMTP de Gmail\n",
    "    smtp_server = \"smtp.gmail.com\"\n",
    "    port = 465  # Puerto SSL\n",
    "\n",
    "    # Crear una conexión segura con SSL\n",
    "    context = ssl.create_default_context()\n",
    "\n",
    "    try:\n",
    "        # Conectarse al servidor de correo\n",
    "        with smtplib.SMTP_SSL(smtp_server, port, context=context) as server:\n",
    "            \"\"\"server.login(sender_email, app_password)  # Autenticarse con tu cuenta de Gmail\n",
    "            server.sendmail(sender_email, mail_d, message.as_string())  # Enviar el correo  \"\"\"\n",
    "\n",
    "            server.login(mail_o, mail_pass)  # Autenticarse con tu cuenta de Gmail\n",
    "            server.sendmail(mail_o, mail_d, message.as_string())  # Enviar el correo\n",
    "\n",
    "        print(\"Correo enviado exitosamente\")\n",
    "    except Exception as e:\n",
    "        print(f\"Error: {e}\")\n"
   ]
  },
  {
   "cell_type": "markdown",
   "metadata": {},
   "source": [
    "Para mejorar la seguridad y funcionamiento:\n",
    "\n",
    "1- **Uso de variables de entorno** para la contraseña: Puedes almacenar tu contraseña en una variable de entorno en lugar de escribirla directamente en el código. Aquí un ejemplo de cómo hacerlo:\n",
    "\n",
    "Puedes establecer la variable de entorno `EMAIL_PASSWORD` en tu sistema de la siguiente manera:\n",
    "\n",
    "- En Windows:\n",
    "`setx EMAIL_PASSWORD \"tu_contraseña\"`\n",
    "\n",
    "- En Linux/MacOS:\n",
    "`export EMAIL_PASSWORD=\"tu_contraseña\"`\n",
    "\n",
    "2- **Habilitar aplicaciones menos seguras en Gmail**: Si no tienes activada la verificación en dos pasos, puedes permitir que aplicaciones menos seguras accedan a tu cuenta de Gmail:\n",
    "- Ve a Permitir el acceso de aplicaciones menos seguras y actívalo.\n",
    "\n",
    "3- **Uso de contraseñas de aplicación**: Si tienes activada la autenticación de dos pasos, lo ideal sería generar una contraseña de aplicación específica para tu script, en lugar de utilizar tu contraseña principal."
   ]
  },
  {
   "cell_type": "markdown",
   "metadata": {},
   "source": [
    "## Envío de notificaciones por WhatsApp: Usando la API de Twilio:"
   ]
  },
  {
   "cell_type": "code",
   "execution_count": null,
   "metadata": {},
   "outputs": [],
   "source": [
    "# pip install twilio\n",
    "\n",
    "from twilio.rest import Client\n",
    "\n",
    "def enviar_whatsapp(mensaje):\n",
    "    account_sid = 'tu_account_sid'\n",
    "    auth_token = 'tu_auth_token'\n",
    "    client = Client(account_sid, auth_token)\n",
    "\n",
    "    message = client.messages.create(\n",
    "        body=mensaje,\n",
    "        from_='whatsapp:+14155238886',  # Número de Twilio\n",
    "        to='whatsapp:+tu_numero'\n",
    "    )\n",
    "    print(\"WhatsApp enviado:\", message.sid)"
   ]
  },
  {
   "cell_type": "markdown",
   "metadata": {},
   "source": [
    "## Integración: Unir la verificación del backup con el envío de notificaciones:"
   ]
  },
  {
   "cell_type": "code",
   "execution_count": 6,
   "metadata": {},
   "outputs": [
    {
     "name": "stdout",
     "output_type": "stream",
     "text": [
      "Correo enviado exitosamente\n",
      "ERROR: No se ha generado el archivo de backup.\n"
     ]
    },
    {
     "data": {
      "text/plain": [
       "' ANTES DE CAMBIOS\\n\\ndef verificar_y_notificar():\\n    resultado = verificar_backup(\\'D:\\\\Etsol\\\\Clientes\\\\Act Yapur\\\\DBSIF.FBK\\')\\n\\n    if resultado[\\'existe\\']:\\n        mensaje = f\"Backup exitoso.\\nTamaño: {resultado[\\'tamano_gb\\']:.2f} GB\\nFecha de creación: {resultado[\\'fecha_creacion\\']}\"\\n        enviar_email(\"Backup Exitoso\", mensaje, \"csaluzzo@gmail.com\")\\n        # enviar_whatsapp(mensaje)\\n    else:\\n        mensaje = \"ERROR: No se ha generado el archivo de backup.\"\\n        enviar_email(\"Backup Fallido\", mensaje, \"csaluzzo@gmail.com\")\\n        # enviar_whatsapp(mensaje)\\n    print(mensaje)\\n\\nverificar_y_notificar()\\n'"
      ]
     },
     "execution_count": 6,
     "metadata": {},
     "output_type": "execute_result"
    }
   ],
   "source": [
    "def verificar_y_notificar(path, mail_o, mail_d, mail_cc, mail_cco, mail_pass):\n",
    "    \n",
    "    resultado = verificar_backup(path)\n",
    "\n",
    "    \n",
    "    if resultado['existe']:\n",
    "        mensaje = f\"Backup exitoso.\\nTamaño: {resultado['tamano_gb']:.2f} GB\\nFecha de creación: {resultado['fecha_creacion']}\"\n",
    "        enviar_email(\"Backup Exitoso\", mensaje, mail_o, mail_d, mail_cc, mail_cco, mail_pass)\n",
    "        # enviar_whatsapp(mensaje)\n",
    "    else:\n",
    "        mensaje = \"ERROR: No se ha generado el archivo de backup.\"\n",
    "        enviar_email(\"Backup Fallido\", mensaje, mail_o, mail_d, mail_cc, mail_cco, mail_pass)\n",
    "        # enviar_whatsapp(mensaje)\n",
    "    print(mensaje)\n",
    "\n",
    "verificar_y_notificar(backup_path, email_origin, email_destination, email_cc, email_cco, email_password)\n",
    "\n",
    "\n",
    "\n",
    "\n",
    "\"\"\" ANTES DE CAMBIOS\n",
    "\n",
    "def verificar_y_notificar():\n",
    "    resultado = verificar_backup('D:\\\\Etsol\\\\Clientes\\\\Act Yapur\\\\DBSIF.FBK')\n",
    "\n",
    "    if resultado['existe']:\n",
    "        mensaje = f\"Backup exitoso.\\nTamaño: {resultado['tamano_gb']:.2f} GB\\nFecha de creación: {resultado['fecha_creacion']}\"\n",
    "        enviar_email(\"Backup Exitoso\", mensaje, \"csaluzzo@gmail.com\")\n",
    "        # enviar_whatsapp(mensaje)\n",
    "    else:\n",
    "        mensaje = \"ERROR: No se ha generado el archivo de backup.\"\n",
    "        enviar_email(\"Backup Fallido\", mensaje, \"csaluzzo@gmail.com\")\n",
    "        # enviar_whatsapp(mensaje)\n",
    "    print(mensaje)\n",
    "\n",
    "verificar_y_notificar()\n",
    "\"\"\"\n"
   ]
  },
  {
   "cell_type": "code",
   "execution_count": 29,
   "metadata": {},
   "outputs": [
    {
     "name": "stdout",
     "output_type": "stream",
     "text": [
      "D:/Etsol/Clientes/Act Yapur/DBSIF.FBK\n",
      "{'existe': True, 'tamano_gb': 6.917958736419678, 'fecha_creacion': '2023-08-31 23:06:29'}\n"
     ]
    }
   ],
   "source": [
    "def verificar_backup_2(ruta_backup):\n",
    "    # Verificar si el archivo existe\n",
    "    if os.path.exists(ruta_backup):\n",
    "        # Obtener el tamaño en GB\n",
    "        tamano = os.path.getsize(ruta_backup) / (1024 * 1024 * 1024)\n",
    "        # Obtener fecha de creación/modificación\n",
    "        timestamp = os.path.getmtime(ruta_backup)\n",
    "        fecha_creacion = time.strftime('%Y-%m-%d %H:%M:%S', time.localtime(timestamp))\n",
    "\n",
    "        return {\"existe\": True, \"tamano_gb\": tamano, \"fecha_creacion\": fecha_creacion}\n",
    "    else:\n",
    "        return {\"existe\": False}\n",
    "\n",
    "\n",
    "\n",
    "ruta_prueba = \"D:\\\\Etsol\\\\Clientes\\\\Act Yapur\\\\DBSIF.FBK\"\n",
    "print(backup_path)\n",
    "prueba = verificar_backup_2(backup_path)\n",
    "print(prueba)\n",
    "\n"
   ]
  },
  {
   "cell_type": "code",
   "execution_count": null,
   "metadata": {},
   "outputs": [],
   "source": []
  },
  {
   "cell_type": "code",
   "execution_count": null,
   "metadata": {},
   "outputs": [],
   "source": []
  },
  {
   "cell_type": "code",
   "execution_count": null,
   "metadata": {},
   "outputs": [],
   "source": []
  },
  {
   "cell_type": "code",
   "execution_count": null,
   "metadata": {},
   "outputs": [],
   "source": []
  },
  {
   "cell_type": "code",
   "execution_count": null,
   "metadata": {},
   "outputs": [],
   "source": []
  },
  {
   "cell_type": "code",
   "execution_count": null,
   "metadata": {},
   "outputs": [],
   "source": []
  },
  {
   "cell_type": "markdown",
   "metadata": {},
   "source": [
    "# Pruebas de funcionamiento del envío de mail\n",
    "-  con cuenta `@gmail.com`"
   ]
  },
  {
   "cell_type": "code",
   "execution_count": 9,
   "metadata": {},
   "outputs": [
    {
     "name": "stdout",
     "output_type": "stream",
     "text": [
      "Correo enviado exitosamente\n"
     ]
    }
   ],
   "source": [
    "\n",
    "\n",
    "# Configura los detalles del correo\n",
    "sender_email = \"notificador.backup2024@gmail.com\"  # Cambia esto por tu correo\n",
    "# app_password = \"gaav nwjq ihll pogd\"     # Coloca aquí tu App Password de Gmail\n",
    "app_password = os.getenv(\"APP_PYTHON\")  # Obtén la App Password desde la variable de entorno\n",
    "receiver_email = \"csaluzzo@gmail.com\"  # Cambia esto por el correo del receptor\n",
    "subject = \"Prueba de envío de correo\"\n",
    "body = \"Este es un correo de prueba enviado desde Python utilizando App Passwords.\"\n",
    "\n",
    "# Crear el mensaje\n",
    "message = MIMEMultipart()\n",
    "message[\"From\"] = sender_email\n",
    "message[\"To\"] = receiver_email\n",
    "message[\"Subject\"] = subject\n",
    "message.attach(MIMEText(body, \"plain\"))\n",
    "\n",
    "# Conexión al servidor SMTP de Gmail\n",
    "smtp_server = \"smtp.gmail.com\"\n",
    "port = 465  # Puerto SSL\n",
    "\n",
    "# Crear una conexión segura con SSL\n",
    "context = ssl.create_default_context()\n",
    "\n",
    "try:\n",
    "    # Conectarse al servidor de correo\n",
    "    with smtplib.SMTP_SSL(smtp_server, port, context=context) as server:\n",
    "        server.login(sender_email, app_password)  # Autenticarse con tu cuenta de Gmail\n",
    "        server.sendmail(sender_email, receiver_email, message.as_string())  # Enviar el correo\n",
    "    print(\"Correo enviado exitosamente\")\n",
    "except Exception as e:\n",
    "    print(f\"Error: {e}\")\n"
   ]
  },
  {
   "cell_type": "code",
   "execution_count": 8,
   "metadata": {},
   "outputs": [
    {
     "name": "stdout",
     "output_type": "stream",
     "text": [
      "gaav nwjq ihll pogd\n"
     ]
    }
   ],
   "source": [
    "\"\"\"\n",
    "\n",
    "import os\n",
    "import smtplib\n",
    "import ssl\n",
    "from email.mime.text import MIMEText\n",
    "from email.mime.multipart import MIMEMultipart\n",
    "\n",
    "# Configura los detalles del correo\n",
    "sender_email = \"notificador.backup2024@gmail.com\"  # Cambia esto por tu correo\n",
    "app_password = os.getenv(\"APP_PYTHON\")  # Obtén la App Password desde la variable de entorno\n",
    "print(app_password)\n",
    "receiver_email = \"csaluzzo@gmail.com\"  # Cambia esto por el correo del receptor\n",
    "subject = \"Prueba de envío de correo\"\n",
    "body = \"Este es un correo de prueba enviado desde Python utilizando App Passwords y una variable de entorno.\"\n",
    "\n",
    "# Crear el mensaje\n",
    "message = MIMEMultipart()\n",
    "message[\"From\"] = sender_email\n",
    "message[\"To\"] = receiver_email\n",
    "message[\"Subject\"] = subject\n",
    "message.attach(MIMEText(body, \"plain\"))\n",
    "\n",
    "# Conexión\n",
    "\n",
    "\"\"\""
   ]
  },
  {
   "cell_type": "code",
   "execution_count": null,
   "metadata": {},
   "outputs": [],
   "source": []
  }
 ],
 "metadata": {
  "kernelspec": {
   "display_name": ".env",
   "language": "python",
   "name": "python3"
  },
  "language_info": {
   "codemirror_mode": {
    "name": "ipython",
    "version": 3
   },
   "file_extension": ".py",
   "mimetype": "text/x-python",
   "name": "python",
   "nbconvert_exporter": "python",
   "pygments_lexer": "ipython3",
   "version": "3.12.3"
  }
 },
 "nbformat": 4,
 "nbformat_minor": 2
}
