{
 "cells": [
  {
   "cell_type": "markdown",
   "metadata": {},
   "source": [
    "## Estructura de la Aplicación:\n",
    "\n",
    "- **Verificación del backup:**\n",
    "    - Detectar la presencia del archivo DBSIF.FBK.\n",
    "    - Verificar la fecha y hora de creación/modificación.\n",
    "    - Obtener el tamaño del archivo.\n",
    "\n",
    "- **Notificación por Email y/o WhatsApp:**\n",
    "    - Si el backup es exitoso (el archivo cumple con los criterios), se envía una notificación.\n",
    "    - En caso de fallo (si no se genera el archivo o tiene un tamaño inesperado), enviar una alerta."
   ]
  },
  {
   "cell_type": "markdown",
   "metadata": {},
   "source": [
    "**Requisitos:**\n",
    "\n",
    "- Bibliotecas necesarias:\n",
    "    - `os` para verificar el archivo.\n",
    "    - `smtplib` para enviar emails.\n",
    "    - API de WhatsApp (podemos usar Twilio o alguna otra plataforma que permita la integración).\n",
    "    - `schedule` o utilizar una tarea programada en Windows para ejecutar la verificación."
   ]
  },
  {
   "cell_type": "markdown",
   "metadata": {},
   "source": [
    "## Verificación del archivo DBSIF.FBK:\n"
   ]
  },
  {
   "cell_type": "code",
   "execution_count": 3,
   "metadata": {},
   "outputs": [],
   "source": [
    "import os\n",
    "import time\n",
    "\n",
    "def verificar_backup(ruta_backup):\n",
    "    # Verificar si el archivo existe\n",
    "    if os.path.exists(ruta_backup):\n",
    "        # Obtener el tamaño en GB\n",
    "        tamano = os.path.getsize(ruta_backup) / (1024 * 1024 * 1024)\n",
    "        # Obtener fecha de creación/modificación\n",
    "        timestamp = os.path.getmtime(ruta_backup)\n",
    "        fecha_creacion = time.strftime('%Y-%m-%d %H:%M:%S', time.localtime(timestamp))\n",
    "\n",
    "        return {\"existe\": True, \"tamano_gb\": tamano, \"fecha_creacion\": fecha_creacion}\n",
    "    else:\n",
    "        return {\"existe\": False}\n"
   ]
  },
  {
   "cell_type": "markdown",
   "metadata": {},
   "source": [
    "\n",
    "## Envío de notificaciones por correo electrónico:"
   ]
  },
  {
   "cell_type": "code",
   "execution_count": 4,
   "metadata": {},
   "outputs": [],
   "source": [
    "import smtplib\n",
    "from email.mime.multipart import MIMEMultipart\n",
    "from email.mime.text import MIMEText\n",
    "\n",
    "def enviar_email(asunto, cuerpo, destinatario):\n",
    "    remitente = \"tu_email@gmail.com\"\n",
    "    contraseña = \"tu_contraseña\"\n",
    "    \n",
    "    # Configuración del mensaje\n",
    "    mensaje = MIMEMultipart()\n",
    "    mensaje['From'] = remitente\n",
    "    mensaje['To'] = destinatario\n",
    "    mensaje['Subject'] = asunto\n",
    "    mensaje.attach(MIMEText(cuerpo, 'plain'))\n",
    "\n",
    "    # Conectar y enviar\n",
    "    servidor = smtplib.SMTP('smtp.gmail.com', 587)\n",
    "    servidor.starttls()\n",
    "    servidor.login(remitente, contraseña)\n",
    "    texto = mensaje.as_string()\n",
    "    servidor.sendmail(remitente, destinatario, texto)\n",
    "    servidor.quit()\n",
    "\n",
    "    print(\"Correo enviado a\", destinatario)\n"
   ]
  },
  {
   "cell_type": "markdown",
   "metadata": {},
   "source": [
    "## Envío de notificaciones por WhatsApp: Usando la API de Twilio:"
   ]
  },
  {
   "cell_type": "code",
   "execution_count": null,
   "metadata": {},
   "outputs": [],
   "source": [
    "# pip install twilio\n",
    "\n",
    "from twilio.rest import Client\n",
    "\n",
    "def enviar_whatsapp(mensaje):\n",
    "    account_sid = 'tu_account_sid'\n",
    "    auth_token = 'tu_auth_token'\n",
    "    client = Client(account_sid, auth_token)\n",
    "\n",
    "    message = client.messages.create(\n",
    "        body=mensaje,\n",
    "        from_='whatsapp:+14155238886',  # Número de Twilio\n",
    "        to='whatsapp:+tu_numero'\n",
    "    )\n",
    "    print(\"WhatsApp enviado:\", message.sid)"
   ]
  },
  {
   "cell_type": "markdown",
   "metadata": {},
   "source": [
    "## Integración: Unir la verificación del backup con el envío de notificaciones:"
   ]
  },
  {
   "cell_type": "code",
   "execution_count": null,
   "metadata": {},
   "outputs": [],
   "source": [
    "def verificar_y_notificar():\n",
    "    resultado = verificar_backup('ruta/del/backup/DBSIF.FBK')\n",
    "\n",
    "    if resultado['existe']:\n",
    "        mensaje = f\"Backup exitoso.\\nTamaño: {resultado['tamano_gb']:.2f} GB\\nFecha de creación: {resultado['fecha_creacion']}\"\n",
    "        enviar_email(\"Backup Exitoso\", mensaje, \"destinatario@ejemplo.com\")\n",
    "        enviar_whatsapp(mensaje)\n",
    "    else:\n",
    "        mensaje = \"ERROR: No se ha generado el archivo de backup.\"\n",
    "        enviar_email(\"Backup Fallido\", mensaje, \"destinatario@ejemplo.com\")\n",
    "        enviar_whatsapp(mensaje)\n",
    "\n",
    "verificar_y_notificar()\n"
   ]
  }
 ],
 "metadata": {
  "kernelspec": {
   "display_name": ".env",
   "language": "python",
   "name": "python3"
  },
  "language_info": {
   "codemirror_mode": {
    "name": "ipython",
    "version": 3
   },
   "file_extension": ".py",
   "mimetype": "text/x-python",
   "name": "python",
   "nbconvert_exporter": "python",
   "pygments_lexer": "ipython3",
   "version": "3.12.3"
  }
 },
 "nbformat": 4,
 "nbformat_minor": 2
}
